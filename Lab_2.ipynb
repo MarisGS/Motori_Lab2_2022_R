{
 "cells": [
  {
   "cell_type": "markdown",
   "id": "4f5472c9",
   "metadata": {},
   "source": [
    "# LD#2 Motora aizdedzes leņķa apsteidzes novērtējums"
   ]
  },
  {
   "cell_type": "markdown",
   "id": "da01decb",
   "metadata": {},
   "source": [
    "### Laboratorijas darba mērķi\n",
    "\n",
    "- iepazīt dzirksteļaizdedzes motora aizdedzes sistēmas komponentes un to darbību;\n",
    "\n",
    "- iegūt pieredzi motora izmēģināšanā uz jaudas stenda;\n",
    "\n",
    "- uzzināt par aizdedzes apsteidzes leņķa ietekmi uz motora griezes momentu un lietderīgumu.\n"
   ]
  },
  {
   "cell_type": "markdown",
   "id": "d0ae6e90",
   "metadata": {},
   "source": [
    "### Laboratorijas darba uzdevumi:\n",
    "- uzstādīt un sagatavot darbam jaudas stenda kontroles sistēmu;\n",
    "\n",
    "- sagatavot, iedarbināt un uzsildīt izmēģinājumu motoru;\n",
    "\n",
    "- lietojot motora vadības sistēmu un jaudas stenda kontroles sistēmu, nostabilizēt motora apgriezienus un degmaisījuma sastāvu noteiktās robežās un reģistrēt motora vadības sistēmas un jaudas stenda darba parametrus;\n",
    "\n",
    "- izmainīt aizdedzes apsteidzes leņķi, ar jaudas stenda kontroles sviru nostabilizēt motora apgriezienus un reģistrēt datus;\n",
    "\n",
    "- atkārtot eksperimentu ar atšķirīgu degmaisījuma sastāvu. (Lambda 0.95; 1.0; 1.05)\n"
   ]
  },
  {
   "cell_type": "markdown",
   "id": "06d3b6c7",
   "metadata": {},
   "source": [
    "### Reģistrējamie parametri:\n",
    "1. Motora efektīvais griezes moments.\n",
    "2. Aizdedzes apsteidzes leņķis.\n",
    "3. Izplūdes gāzu temperatūra.\n",
    "4. Degvielas patēriņš laika vienībā.\n"
   ]
  },
  {
   "cell_type": "markdown",
   "id": "b63d32ae",
   "metadata": {},
   "source": [
    "Sekojošais skripts importē *numpy* bibliotēku aprēķiniem, un *matplotlib* diagrammu veidošanai.\n",
    "\n",
    "Tāpat tajā tiek ieviestas degvielas blīvuma $\\rho$ un siltumspējas $Q_{LHV}$ mainīgie un izmēģinājumu režīmu parametru vērtības diagrammu veidošanas vajadzībām."
   ]
  },
  {
   "cell_type": "code",
   "execution_count": 12,
   "id": "cd53a2b7",
   "metadata": {},
   "outputs": [],
   "source": [
    "import numpy as np\n",
    "import matplotlib.pyplot as plt\n",
    "\n",
    "Ro=0.74\n",
    "QLHV=44\n",
    "\n",
    "Spark=[30,32,34,36,38,40,42]\n",
    "Labels_Lambda=['$\\lambda$=0.95','$\\lambda$=1.00','$\\lambda$=1.05']\n"
   ]
  },
  {
   "cell_type": "markdown",
   "id": "e42d5713",
   "metadata": {},
   "source": [
    "\n",
    "Zemāk ir funkcijas kods, kurā tiek ielasīta informācija no *csv* faila attiecīgās sākuma rindas un kolonnas. \n",
    "\n",
    "Aprēķināta parametru vidējā vērtība izmēģinājumā.\n",
    "\n",
    "Tad aprēķināta jauda, degvielas masas patēriņš, īpatnējais patēriņš un lietderības koeficients. \n",
    "\n",
    "Jauda:\n",
    "\n",
    "$$P=\\frac{T \\cdot N \\cdot 2 \\cdot \\pi \\cdot 1000}{60}$$ \n",
    "\n",
    "kur\n",
    "\n",
    "   T - griezes moments, $Nm$\n",
    "\n",
    "   N - apgriezieni, $min^ {-1}$\n",
    "   \n",
    "   \n",
    "Degvielas masas plūsma:\n",
    "\n",
    "$$ m_f=v_f \\cdot \\rho \\cdot 1000 $$\n",
    "\n",
    "kur\n",
    "\n",
    "$v_f$ - degvielas tilpuma plūsma, l/h\n",
    "\n",
    "$\\rho$ - blīvums, $m^3/kg$\n",
    "\n",
    "Īpatnējais degvielas patēriņš:\n",
    "\n",
    "$$sfc=\\frac {m_f}{P}$$\n",
    "\n",
    "Lietderības koeficients:\n",
    "\n",
    "$$n_f=\\frac {3600 \\cdot 100}{sfc \\cdot Q_{LHV}}$$\n",
    "\n"
   ]
  },
  {
   "cell_type": "code",
   "execution_count": 13,
   "id": "2a742d39",
   "metadata": {},
   "outputs": [],
   "source": [
    "def lab_2_function (file, Ro, QLHV):\n",
    "    \n",
    "    import numpy as np\n",
    "\n",
    "    RPM = np.loadtxt(file, dtype=float, delimiter=';', skiprows=1, usecols=1)\n",
    "    RPM_m=np.mean(RPM)\n",
    "\n",
    "    EGT = np.loadtxt(file, dtype=float, delimiter=';', skiprows=1, usecols=21)\n",
    "    EGT_m=np.mean(EGT)\n",
    "\n",
    "    LH = np.loadtxt(file, dtype=float, delimiter=';', skiprows=1, usecols=30)\n",
    "    LH_m=np.mean(LH)\n",
    "\n",
    "    T = np.loadtxt(file, dtype=float, delimiter=';', skiprows=1, usecols=31)\n",
    "    T_m=np.mean(T)\n",
    "\n",
    "    P=RPM_m*2*np.pi/60*T_m/1000\n",
    "\n",
    "    mf=LH_m*Ro*1000\n",
    "\n",
    "    sfc=mf/P\n",
    "    nf=3600*100/(sfc*QLHV)\n",
    "    \n",
    "    return EGT_m, T_m, P, sfc, nf"
   ]
  },
  {
   "cell_type": "markdown",
   "id": "86543b60",
   "metadata": {},
   "source": [
    "Turpinājumā kods, kurā ielādē datus no izmēģinājuma režīmā ar $\\lambda = 0.95$, aprēķina izplūdes gāzes (EGT), griezes momenta, jaudas, īpatnējā degvielas patēriņa un lietderības koeficienta vērtības."
   ]
  },
  {
   "cell_type": "code",
   "execution_count": 14,
   "id": "25e14d62",
   "metadata": {},
   "outputs": [],
   "source": [
    "files_L095=['L0.95_SA30.csv','L0.95_SA32.csv','L0.95_SA34.csv','L0.95_SA36.csv','L0.95_SA38.csv','L0.95_SA40.csv','L0.95_SA42.csv']\n",
    "\n",
    "\n",
    "size=len(files_L095)\n",
    "\n",
    "EGT_095=np.zeros(size)\n",
    "T_095=np.zeros(size)\n",
    "P_095=np.zeros(size)\n",
    "sfc_095=np.zeros(size)\n",
    "nf_095=np.zeros(size)\n",
    "\n",
    "for ii in range (0,size): \n",
    "\n",
    "    EGTs, Ts, Ps, sfcs, nfs = lab_2_function (files_L095[ii], Ro, QLHV)\n",
    "    EGT_095[ii]=EGTs\n",
    "    T_095[ii]=Ts\n",
    "    P_095[ii]=Ps\n",
    "    sfc_095[ii]=sfcs\n",
    "    nf_095[ii]=nfs"
   ]
  },
  {
   "cell_type": "markdown",
   "id": "fe44fd71",
   "metadata": {},
   "source": [
    "Turpinājumā kods, kurā ielādē datus no izmēģinājuma režīmā ar $\\lambda = 1.0$, aprēķina izplūdes gāzes (EGT), griezes momenta, jaudas, īpatnējā degvielas patēriņa un lietderības koeficienta vērtības."
   ]
  },
  {
   "cell_type": "code",
   "execution_count": 15,
   "id": "4a890abc",
   "metadata": {},
   "outputs": [],
   "source": [
    "files_L1=['L1.0_SA30.csv','L1.0_SA32.csv','L1.0_SA34.csv','L1.0_SA36.csv','L1.0_SA38.csv','L1.0_SA40.csv','L1.0_SA42.csv']\n",
    "\n",
    "size=len(files_L1)\n",
    "\n",
    "EGT_1=np.zeros(size)\n",
    "T_1=np.zeros(size)\n",
    "P_1=np.zeros(size)\n",
    "sfc_1=np.zeros(size)\n",
    "nf_1=np.zeros(size)\n",
    "\n",
    "for ii in range (0,size): \n",
    "\n",
    "    EGTs, Ts, Ps, sfcs, nfs = lab_2_function (files_L1[ii], Ro, QLHV)\n",
    "    EGT_1[ii]=EGTs\n",
    "    T_1[ii]=Ts\n",
    "    P_1[ii]=Ps\n",
    "    sfc_1[ii]=sfcs\n",
    "    nf_1[ii]=nfs"
   ]
  },
  {
   "cell_type": "markdown",
   "id": "3e14030c",
   "metadata": {},
   "source": [
    "Turpinājumā kods, kurā ielādē datus no izmēģinājuma režīmā ar $\\lambda = 1.05$, aprēķina izplūdes gāzes (EGT), griezes momenta, jaudas, īpatnējā degvielas patēriņa un lietderības koeficienta vērtības."
   ]
  },
  {
   "cell_type": "code",
   "execution_count": 16,
   "id": "a83bb5f9",
   "metadata": {},
   "outputs": [],
   "source": [
    "files_L105=['L1.05_SA30.csv','L1.05_SA32.csv','L1.05_SA34.csv','L1.05_SA36.csv','L1.05_SA38.csv','L1.05_SA40.csv','L1.05_SA42.csv']\n",
    "\n",
    "size=len(files_L105)\n",
    "\n",
    "EGT_105=np.zeros(size)\n",
    "T_105=np.zeros(size)\n",
    "P_105=np.zeros(size)\n",
    "sfc_105=np.zeros(size)\n",
    "nf_105=np.zeros(size)\n",
    "\n",
    "for ii in range (0,size): \n",
    "\n",
    "    EGTs, Ts, Ps, sfcs, nfs = lab_2_function (files_L105[ii], Ro, QLHV)\n",
    "    EGT_105[ii]=EGTs\n",
    "    T_105[ii]=Ts\n",
    "    P_105[ii]=Ps\n",
    "    sfc_105[ii]=sfcs\n",
    "    nf_105[ii]=nfs    "
   ]
  },
  {
   "cell_type": "markdown",
   "id": "e59f160f",
   "metadata": {},
   "source": [
    "Tālāk kods, kurā aprēķina vidējā efektīvā spiediena vērtību visos izmēģinājuma režīmos. Tas tiek paveikts, vienādojumā ievietojot griezes momenta vērtību skaitļu masīvu, kas satur vērtības ar \n",
    "visām aizdedzes apsteidzes leņķa vērtībām."
   ]
  },
  {
   "cell_type": "code",
   "execution_count": 17,
   "id": "d89fe4e6",
   "metadata": {},
   "outputs": [],
   "source": [
    "# BMEP aprēķins\n",
    "\n",
    "B=81/1000\n",
    "L=77/1000\n",
    "\n",
    "Vd_mot=np.pi*B**2*L\n",
    "BMEP_095=T_095*2*np.pi*2*10**(-5)/Vd_mot\n",
    "BMEP_1=T_1*2*np.pi*2*10**(-5)/Vd_mot\n",
    "BMEP_105=T_105*2*np.pi*2*10**(-5)/Vd_mot\n",
    "    "
   ]
  },
  {
   "cell_type": "markdown",
   "id": "7f85a2b2",
   "metadata": {},
   "source": [
    "Turpinājumā iegūta griezes momenta izmaiņu aizdedzes apsteidzes leņķa ietemē diagramma. Parādīti dati no visiem izmēģinājuma režīmiem. Diagrammā redzamais ir jāpaskaidro."
   ]
  },
  {
   "cell_type": "code",
   "execution_count": 18,
   "id": "b9a92075",
   "metadata": {},
   "outputs": [
    {
     "data": {
      "text/plain": [
       "<matplotlib.legend.Legend at 0x7efea6f81d30>"
      ]
     },
     "execution_count": 18,
     "metadata": {},
     "output_type": "execute_result"
    },
    {
     "data": {
      "image/png": "[encoded data removed]",
      "text/plain": [
       "<Figure size 640x480 with 1 Axes>"
      ]
     },
     "metadata": {},
     "output_type": "display_data"
    }
   ],
   "source": [
    "fig, ax = plt.subplots()\n",
    "ax.grid()\n",
    "ax.set_ylabel('Griezes moments, Nm')\n",
    "ax.set_xlabel('Aizdedzes apsteidzes leņķis')\n",
    "\n",
    "#aprēkina maksimālās un minimālās vērtības uz vert. ass.\n",
    "\n",
    "maxval=np.max([np.max(T_095),np.max(T_1),np.max(T_105)])\n",
    "minval=np.min([np.min(T_095),np.min(T_1),np.min(T_105)])\n",
    "\n",
    "#pieskaita 0.4 un noapaļo uz veselu skaitli\n",
    "\n",
    "ylim_1=np.round(minval-0.4,0)\n",
    "ylim_2=np.round(maxval+0.4,0)\n",
    "\n",
    "\n",
    "ax.set_ylim(ylim_1, ylim_2)\n",
    "\n",
    "line1, = ax.plot(Spark,T_095)\n",
    "line2, = ax.plot(Spark,T_1)\n",
    "line3, = ax.plot(Spark,T_105)\n",
    "\n",
    "ax.legend([line1, line2, line3], Labels_Lambda)"
   ]
  },
  {
   "cell_type": "markdown",
   "id": "78095eab",
   "metadata": {},
   "source": [
    "Lietojot iepriekšējā šūnā iekļauto kodu kā paraugu, jāizveido **motora jaudas un aizdedzes apsteidzes leņķa līnijas veida diagramma**. Vienā diagrammā iekļaut datus no visiem trīs izmēģinājuma režīmiem. Uz asīm norādīt mērvienības.\n",
    " Vienā diagrammā iekļaut datus no visiem trīs izmēģinājuma režīmiem. Uz asīm norādīt mērvienības. Uzrakstīt īsus secinājumus par novērojamo."
   ]
  },
  {
   "cell_type": "markdown",
   "id": "80a2a890",
   "metadata": {},
   "source": [
    "Lietojot iepriekšējā šūnā iekļauto kodu kā paraugu, jāizveido **īpatnējā degvielas patēriņa un aizdedzes apsteidzes leņķa līnijas veida diagramma**. Vienā diagrammā iekļaut datus no visiem trīs izmēģinājuma režīmiem. Uz asīm norādīt mērvienības.\n",
    " Vienā diagrammā iekļaut datus no visiem trīs izmēģinājuma režīmiem. Uz asīm norādīt mērvienības. Uzrakstīt īsus secinājumus par novērojamo."
   ]
  },
  {
   "cell_type": "markdown",
   "id": "2f578b00",
   "metadata": {},
   "source": [
    "Lietojot iepriekšējā šūnā iekļauto kodu kā paraugu, jāizveido **motora lietderības koeficienta un aizdedzes apsteidzes leņķa līnijas veida diagramma**. Vienā diagrammā iekļaut datus no visiem trīs izmēģinājuma režīmiem. Uz asīm norādīt mērvienības.\n",
    " Vienā diagrammā iekļaut datus no visiem trīs izmēģinājuma režīmiem. Uz asīm norādīt mērvienības. Uzrakstīt īsus secinājumus par novērojamo."
   ]
  },
  {
   "cell_type": "markdown",
   "id": "f66e2ca6",
   "metadata": {},
   "source": [
    "Lietojot iepriekšējā šūnā iekļauto kodu kā paraugu, jāizveido **izplūdes gāzu temperatūras un aizdedzes apsteidzes leņķa līnijas veida diagramma**. Vienā diagrammā iekļaut datus no visiem trīs izmēģinājuma režīmiem. Uz asīm norādīt mērvienības.\n",
    " Vienā diagrammā iekļaut datus no visiem trīs izmēģinājuma režīmiem. Uz asīm norādīt mērvienības. Uzrakstīt īsus secinājumus par novērojamo."
   ]
  },
  {
   "cell_type": "markdown",
   "id": "1b8b8d33",
   "metadata": {},
   "source": [
    "Ziņojumu sagatavot *pdf* formātā. Var ar virtuālo printeri izdrukāt kā *pdf* iesniegt Ortus līdz norādītajam termiņam."
   ]
  }
 ],
 "metadata": {
  "kernelspec": {
   "display_name": "Python 3 (ipykernel)",
   "language": "python",
   "name": "python3"
  },
  "language_info": {
   "codemirror_mode": {
    "name": "ipython",
    "version": 3
   },
   "file_extension": ".py",
   "mimetype": "text/x-python",
   "name": "python",
   "nbconvert_exporter": "python",
   "pygments_lexer": "ipython3",
   "version": "3.8.5"
  }
 },
 "nbformat": 4,
 "nbformat_minor": 5
}
